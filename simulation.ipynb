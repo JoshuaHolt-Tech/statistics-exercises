{
 "cells": [
  {
   "cell_type": "code",
   "execution_count": 1,
   "id": "6520c678-90d9-48e1-b46f-e9ce47e8661d",
   "metadata": {},
   "outputs": [],
   "source": [
    "import pandas as pd\n",
    "import numpy as np\n"
   ]
  },
  {
   "cell_type": "markdown",
   "id": "ff8a17dd-f117-476a-93d7-93d437fee206",
   "metadata": {},
   "source": [
    "1. How likely is it that you roll doubles when rolling two dice?"
   ]
  },
  {
   "cell_type": "code",
   "execution_count": 24,
   "id": "167215f2-5d52-4f7e-b452-28faba2220cc",
   "metadata": {},
   "outputs": [
    {
     "name": "stdout",
     "output_type": "stream",
     "text": [
      "Chance of doubles: 16.68 %\n"
     ]
    }
   ],
   "source": [
    "# Based on simulations:\n",
    "n_simulations = nrows = 1000000\n",
    "n_dice_rolled = ncols = 2\n",
    "\n",
    "rolls = np.random.choice([1, 2, 3, 4, 5, 6], nrows * ncols).reshape(nrows, ncols)\n",
    "\n",
    "probability = [x for x in rolls if x[0] == x[1]]\n",
    "print(f\"Chance of doubles: {len(probability)/len(rolls) * 100:.2f} %\")"
   ]
  },
  {
   "cell_type": "markdown",
   "id": "bc4ef73b-6461-4d85-9ce8-301107120009",
   "metadata": {},
   "source": [
    "2. If you flip 8 coins, what is the probability of getting exactly 3 heads? What is the probability of getting more than 3 heads?"
   ]
  },
  {
   "cell_type": "code",
   "execution_count": 15,
   "id": "fcc77570-22b6-4c0d-a387-290cbfc476fa",
   "metadata": {},
   "outputs": [
    {
     "data": {
      "text/plain": [
       "array([[1, 1, 0, ..., 1, 0, 1],\n",
       "       [0, 0, 0, ..., 1, 1, 1],\n",
       "       [0, 1, 0, ..., 0, 0, 0],\n",
       "       ...,\n",
       "       [1, 1, 1, ..., 1, 1, 0],\n",
       "       [0, 0, 1, ..., 1, 0, 1],\n",
       "       [0, 1, 0, ..., 1, 0, 1]])"
      ]
     },
     "execution_count": 15,
     "metadata": {},
     "output_type": "execute_result"
    }
   ],
   "source": [
    "n_trials = nrows = 10_000\n",
    "n_coins = ncols = 8\n",
    "\n",
    "rolls = np.random.choice([0,1], n_trials * n_coins).reshape(nrows, ncols)\n",
    "rolls"
   ]
  },
  {
   "cell_type": "code",
   "execution_count": 16,
   "id": "5a1ccbc2-5af0-476b-b4dc-83e0deb22316",
   "metadata": {},
   "outputs": [
    {
     "data": {
      "text/plain": [
       "array([5, 4, 3, ..., 6, 4, 4])"
      ]
     },
     "execution_count": 16,
     "metadata": {},
     "output_type": "execute_result"
    }
   ],
   "source": [
    "trial_sums = rolls.sum(axis=1)\n",
    "trial_sums"
   ]
  },
  {
   "cell_type": "code",
   "execution_count": 21,
   "id": "bd362983-f52f-4792-90cb-eb8da882d984",
   "metadata": {
    "tags": []
   },
   "outputs": [
    {
     "name": "stdout",
     "output_type": "stream",
     "text": [
      "The probability of getting three heads is: 22.12 %\n"
     ]
    }
   ],
   "source": [
    "print(f\"The probability of getting three heads is: {np.count_nonzero(trial_sums == 3) / len(trial_sums) * 100:.2f} %\")"
   ]
  },
  {
   "cell_type": "code",
   "execution_count": 23,
   "id": "0c50b281-f61b-4c72-b383-1771321eae3b",
   "metadata": {},
   "outputs": [
    {
     "name": "stdout",
     "output_type": "stream",
     "text": [
      "The probability of getting more than three heads is: 63.26 %\n"
     ]
    }
   ],
   "source": [
    "print(f\"The probability of getting more than three heads is: {np.count_nonzero(trial_sums > 3) / len(trial_sums) * 100:.2f} %\")"
   ]
  },
  {
   "cell_type": "code",
   "execution_count": 18,
   "id": "6f8c7164-1ba2-42b1-bca1-389300c3591f",
   "metadata": {},
   "outputs": [
    {
     "name": "stdout",
     "output_type": "stream",
     "text": [
      "2212\n"
     ]
    }
   ],
   "source": [
    "# How to verify?\n",
    "count = 0\n",
    "for item in trial_sums:\n",
    "    if item == 3:\n",
    "        count += 1\n",
    "print(count)"
   ]
  },
  {
   "cell_type": "markdown",
   "id": "12d97335-8522-4e0d-9d1d-561eee30dfe3",
   "metadata": {},
   "source": [
    "3. There are approximitely 3 web development cohorts for every 1 data science cohort at Codeup. Assuming that Codeup randomly selects an alumni to put on a billboard, what are the odds that the two billboards I drive past both have data science students on them?"
   ]
  },
  {
   "cell_type": "code",
   "execution_count": 7,
   "id": "d9f3ecee-cd0a-4a85-b872-6c06ad861c9e",
   "metadata": {},
   "outputs": [
    {
     "data": {
      "text/plain": [
       "array([[0, 0],\n",
       "       [1, 1],\n",
       "       [0, 0],\n",
       "       ...,\n",
       "       [0, 0],\n",
       "       [1, 0],\n",
       "       [0, 0]])"
      ]
     },
     "execution_count": 7,
     "metadata": {},
     "output_type": "execute_result"
    }
   ],
   "source": [
    "# 75% chance web development aka 0.\n",
    "# 25% chance data science aka 1.\n",
    "# 6.25% (25% * 25%)\n",
    "# Now, how to simulate this:\n",
    "\n",
    "ds = 1\n",
    "wd = 0\n",
    "n_trials = nrows = 10_000\n",
    "n_billboards = ncols = 2\n",
    "\n",
    "b_rollin = np.random.choice([ds,wd,wd,wd], n_trials * n_billboards).reshape(nrows, ncols)\n",
    "b_rollin"
   ]
  },
  {
   "cell_type": "code",
   "execution_count": 8,
   "id": "46d8ebd4-aad3-47fd-8faf-0676c9476498",
   "metadata": {},
   "outputs": [
    {
     "data": {
      "text/plain": [
       "array([0, 2, 0, ..., 0, 1, 0])"
      ]
     },
     "execution_count": 8,
     "metadata": {},
     "output_type": "execute_result"
    }
   ],
   "source": [
    "sums_by_trial = b_rollin.sum(axis=1)\n",
    "sums_by_trial"
   ]
  },
  {
   "cell_type": "code",
   "execution_count": 9,
   "id": "36ea44d8-be65-43a8-a941-f147f9ebcfcc",
   "metadata": {},
   "outputs": [
    {
     "name": "stdout",
     "output_type": "stream",
     "text": [
      " The chances of a data science student's head on a billboard are: 6.24 %\n"
     ]
    }
   ],
   "source": [
    "print(f\" The chances of a data science student's head on a billboard are: {np.count_nonzero(sums_by_trial == 2) / len(b_rollin) * 100:.2f} %\")"
   ]
  },
  {
   "cell_type": "markdown",
   "id": "02b3e8b1-4bc1-43fb-a368-ce7d50373cd6",
   "metadata": {},
   "source": [
    "4. Codeup students buy, on average, 3 poptart packages with a standard deviation of 1.5 a day from the snack vending machine. If on monday the machine is restocked with 17 poptart packages, how likely is it that I will be able to buy some poptarts on Friday afternoon? (Remember, if you have mean and standard deviation, use the np.random.normal) You'll need to make a judgement call on how to handle some of your values"
   ]
  },
  {
   "cell_type": "code",
   "execution_count": 10,
   "id": "b54ef7c1-6c84-4d25-8822-465db999ba4a",
   "metadata": {},
   "outputs": [
    {
     "name": "stdout",
     "output_type": "stream",
     "text": [
      "There is a 28.23 % chance you will get a poptart on Friday.\n"
     ]
    }
   ],
   "source": [
    "pop_ave = 3\n",
    "pop_sd = 1.5\n",
    "init_pops = 17\n",
    "\n",
    "testing_this = np.random.normal(loc=pop_ave, scale=pop_sd, size=(10000, 5))\n",
    "testing_this_sum = testing_this.sum(axis=1).round(2)\n",
    "\n",
    "print(f\"There is a {np.count_nonzero(testing_this_sum > 17)/ len(testing_this_sum) * 100:.2f} % chance you will get a poptart on Friday.\")\n"
   ]
  },
  {
   "cell_type": "markdown",
   "id": "f6ca2617-353e-4d51-b0c0-4e91d4f68c91",
   "metadata": {},
   "source": [
    "5. Compare Heights\n",
    "\n",
    "    - Men have an average height of 178 cm and standard deviation of 8cm.\n",
    "    - Women have a mean of 170, sd = 6cm.\n",
    "    - Since you have means and standard deviations, you can use np.random.normal to generate observations.\n",
    "    - If a man and woman are chosen at random, what is the likelihood the woman is taller than the man?"
   ]
  },
  {
   "cell_type": "code",
   "execution_count": 11,
   "id": "5012e0de-21d1-4027-84df-8245cbda50cb",
   "metadata": {},
   "outputs": [
    {
     "name": "stdout",
     "output_type": "stream",
     "text": [
      "The chances of a women being taller than a man are: 21.20 %\n"
     ]
    }
   ],
   "source": [
    "ave_men = 178\n",
    "sd_men = 8\n",
    "ave_women = 170\n",
    "sd_women = 6\n",
    "\n",
    "men = np.random.normal(loc=ave_men, scale=sd_men, size=(100000,))\n",
    "women = np.random.normal(loc=ave_women, scale=sd_women, size=(100000,))\n",
    "height = pd.DataFrame({'men': men, 'women': women})\n",
    "\n",
    "\n",
    "print(f\"The chances of a women being taller than a man are: {len(height[women > men]) / len(height) * 100:.2f} %\")"
   ]
  },
  {
   "cell_type": "markdown",
   "id": "c58e92cc-a10d-4d99-9bc1-ca2500d9a13d",
   "metadata": {},
   "source": [
    "6. When installing anaconda on a student's computer, there's a 1 in 250 chance that the download is corrupted and the installation fails. What are the odds that after having 50 students download anaconda, no one has an installation issue? 100 students?\n",
    "\n",
    "    - What is the probability that we observe an installation issue within the first 150 students that download anaconda?\n",
    "\n",
    "    - How likely is it that 450 students all download anaconda without an issue?"
   ]
  },
  {
   "cell_type": "code",
   "execution_count": 12,
   "id": "9a523c91-9b50-40e6-bdea-cf966a81754a",
   "metadata": {},
   "outputs": [
    {
     "name": "stdout",
     "output_type": "stream",
     "text": [
      "Chances via random sample are: 20.0 %\n",
      "Calculated chances are: 20.0 %\n"
     ]
    }
   ],
   "source": [
    "chance_of_failure = 0.004\n",
    "num_of_trials = 50\n",
    "trials = np.random.binomial(n=num_of_trials, p=chance_of_failure, size=(1000000))\n",
    "print(f\"Chances via random sample are: {(sum(trials)/len(trials) * 100):.1f} %\")\n",
    "\n",
    "print(f'Calculated chances are: {chance_of_failure * num_of_trials * 100:.1f} %')"
   ]
  },
  {
   "cell_type": "markdown",
   "id": "2d0ef227-386e-4d24-848c-135331ea62b1",
   "metadata": {},
   "source": [
    "7. There's a 70% chance on any given day that there will be at least one food truck at Travis Park. However, you haven't seen a food truck there in 3 days. How unlikely is this?\n",
    "\n",
    "    - How likely is it that a food truck will show up sometime this week?"
   ]
  },
  {
   "cell_type": "code",
   "execution_count": 32,
   "id": "74c641f9-5d65-4f14-8ab8-a7b5160061b0",
   "metadata": {},
   "outputs": [
    {
     "data": {
      "text/plain": [
       "-0.52831"
      ]
     },
     "execution_count": 32,
     "metadata": {},
     "output_type": "execute_result"
    }
   ],
   "source": [
    "# Order matters. Binomial. \n",
    "food_truck = 0.7\n",
    "num_of_days = 5\n",
    "trials = np.random.binomial(n=num_of_days, p=food_truck, size=(100000))\n",
    "sum(trials  3) / len(trials)\n",
    "\n",
    "\n"
   ]
  },
  {
   "cell_type": "markdown",
   "id": "7b234193-3581-42e2-8331-9a377ce8389b",
   "metadata": {},
   "source": [
    "8. If 23 people are in the same room, what are the odds that two of them share a birthday? What if it's 20 people? 40?"
   ]
  },
  {
   "cell_type": "code",
   "execution_count": 34,
   "id": "771b15ab-afdf-4aea-91dc-fb6af560c331",
   "metadata": {},
   "outputs": [
    {
     "data": {
      "text/plain": [
       "3.2231863987436975e-103"
      ]
     },
     "execution_count": 34,
     "metadata": {},
     "output_type": "execute_result"
    }
   ],
   "source": [
    "# This is a Poisson(?) \n",
    "b_day = 1/365"
   ]
  },
  {
   "cell_type": "code",
   "execution_count": null,
   "id": "d7a38030-874a-45c6-bdfa-fe14f235e547",
   "metadata": {},
   "outputs": [],
   "source": []
  }
 ],
 "metadata": {
  "kernelspec": {
   "display_name": "Python 3 (ipykernel)",
   "language": "python",
   "name": "python3"
  },
  "language_info": {
   "codemirror_mode": {
    "name": "ipython",
    "version": 3
   },
   "file_extension": ".py",
   "mimetype": "text/x-python",
   "name": "python",
   "nbconvert_exporter": "python",
   "pygments_lexer": "ipython3",
   "version": "3.9.15"
  }
 },
 "nbformat": 4,
 "nbformat_minor": 5
}

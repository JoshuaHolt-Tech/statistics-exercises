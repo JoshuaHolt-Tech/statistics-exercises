{
 "cells": [
  {
   "cell_type": "markdown",
   "id": "ec0d1971-9bf5-4b05-ba06-aa7390458410",
   "metadata": {},
   "source": [
    "# Overview Exercises:"
   ]
  },
  {
   "cell_type": "markdown",
   "id": "161bef27-267a-4884-826c-231fa92380f1",
   "metadata": {
    "tags": []
   },
   "source": [
    "### Be as specific as you can and answer for each of the following questions:"
   ]
  },
  {
   "cell_type": "markdown",
   "id": "a21217d7-62cf-458b-8c7e-3c3b1aea7c4c",
   "metadata": {
    "tags": []
   },
   "source": [
    "#### Formulate:\n",
    "    - null hypothesis\n",
    "    - alternative hypothesis"
   ]
  },
  {
   "cell_type": "markdown",
   "id": "63075936-b7c8-4eca-83a6-7b9c99a86ba8",
   "metadata": {
    "tags": []
   },
   "source": [
    "#### Give examples of:\n",
    "    - true positive\n",
    "    - true negative\n",
    "    - type I error \n",
    "    - type II error"
   ]
  },
  {
   "cell_type": "markdown",
   "id": "54b074a2-3539-401a-9df6-3daae8c8e45d",
   "metadata": {
    "tags": []
   },
   "source": [
    "### 1. Has the network latency gone up since we switched internet service providers?"
   ]
  },
  {
   "cell_type": "markdown",
   "id": "42aeb9a0-61e7-48af-a64f-238f80527b1f",
   "metadata": {},
   "source": [
    "H0: Network latency has not changed since switching service providers."
   ]
  },
  {
   "cell_type": "markdown",
   "id": "1eaede54-8d9c-4aad-a481-9be74f8fade1",
   "metadata": {},
   "source": [
    "HA: The new ISP has more network latency. "
   ]
  },
  {
   "cell_type": "markdown",
   "id": "004ae927-519e-4097-9e30-9b969ef39cc4",
   "metadata": {
    "tags": []
   },
   "source": [
    "True positive: Network latency is the same with both ISPs."
   ]
  },
  {
   "cell_type": "markdown",
   "id": "5fce182c-7d48-4630-9049-30fe50c38659",
   "metadata": {},
   "source": [
    "True negative: Network latency has increased since switching ISPs."
   ]
  },
  {
   "cell_type": "markdown",
   "id": "8a8c2739-e146-48a3-a1ae-9ab0eeb4c205",
   "metadata": {},
   "source": [
    "Type I error: We conclude network latency has increased when it actually has not."
   ]
  },
  {
   "cell_type": "markdown",
   "id": "1e87bded-9429-40c2-a5c9-43644e041684",
   "metadata": {},
   "source": [
    "Type II error: We believe network latency has remained the same when it has actually gone up."
   ]
  },
  {
   "cell_type": "markdown",
   "id": "f25374d6-39ad-4971-bd7d-462ed6693cde",
   "metadata": {
    "tags": []
   },
   "source": [
    "### 2. Is the website redesign any good?"
   ]
  },
  {
   "cell_type": "markdown",
   "id": "0bf7056a-c4b5-440f-89e5-d217cf864492",
   "metadata": {},
   "source": [
    "H0: The website design results in the same number of click-throughs as as before."
   ]
  },
  {
   "cell_type": "markdown",
   "id": "11312c3e-7c58-45a8-8c7e-4b14e83ad4ac",
   "metadata": {},
   "source": [
    "HA: The website design causes more click-throughs than prior."
   ]
  },
  {
   "cell_type": "markdown",
   "id": "632ebdb6-3683-4ac3-8458-0572dec5eda9",
   "metadata": {},
   "source": [
    "True positive: We believe the number of click-throughs is the same and it actually is."
   ]
  },
  {
   "cell_type": "markdown",
   "id": "cf119aed-9bf7-41fb-b961-c92a934dd402",
   "metadata": {
    "tags": []
   },
   "source": [
    "True negative: We believe there are more click-thoughs are there actually are."
   ]
  },
  {
   "cell_type": "markdown",
   "id": "d363f5ac-74be-4599-8aed-25450eeed9da",
   "metadata": {},
   "source": [
    "Type I error: We believe there are more click-throughs but there are not."
   ]
  },
  {
   "cell_type": "markdown",
   "id": "0916b17f-eafa-46ef-a813-c3be9c86884d",
   "metadata": {},
   "source": [
    "Type II error: We believe the number of click-throughs is the same but it is actually more."
   ]
  },
  {
   "cell_type": "markdown",
   "id": "43fad3b1-3e8c-4bf0-af9b-d67fbfe16475",
   "metadata": {
    "tags": []
   },
   "source": [
    "### 3. Is our television ad driving more sales?"
   ]
  },
  {
   "cell_type": "markdown",
   "id": "e1f6c4a1-d3f0-4a1d-a0c8-77e06f0de1ea",
   "metadata": {},
   "source": [
    "H0: Our television ads have not affected our sales."
   ]
  },
  {
   "cell_type": "markdown",
   "id": "67cc2923-69cb-42f5-90e5-2b7dea7b5cfe",
   "metadata": {},
   "source": [
    "HA: Our television ads have affected our sales."
   ]
  },
  {
   "cell_type": "markdown",
   "id": "0d23cef0-5aa6-4d73-adc9-d9431ceab560",
   "metadata": {},
   "source": [
    "True positive: Our sales are the same and our sales have not changed."
   ]
  },
  {
   "cell_type": "markdown",
   "id": "445eac2b-5edd-4274-b772-fc85a562660b",
   "metadata": {
    "tags": []
   },
   "source": [
    "True negative: Our sales increased with the ads and our sales actually increased."
   ]
  },
  {
   "cell_type": "markdown",
   "id": "fd73d43d-2b0b-4640-92eb-fcec238eda2f",
   "metadata": {},
   "source": [
    "Type I error: Our sales have increased but they have actually stayed the same."
   ]
  },
  {
   "cell_type": "markdown",
   "id": "5c369fe8-a38b-496c-9145-16ed5ecf1847",
   "metadata": {},
   "source": [
    "Type II error: Our sales are the same but they have actually increased."
   ]
  },
  {
   "cell_type": "markdown",
   "id": "eb88d1f3-31d8-47d6-acae-db2d35bd934a",
   "metadata": {},
   "source": [
    "# T-Test Exercises:"
   ]
  },
  {
   "cell_type": "code",
   "execution_count": 1,
   "id": "2f083926-6512-459b-8019-3bc72649ec51",
   "metadata": {},
   "outputs": [],
   "source": [
    "import pandas as pd\n",
    "import numpy as np\n",
    "from pydataset import data\n",
    "import matplotlib.pyplot as plt\n",
    "import seaborn as sns\n",
    "import scipy.stats as stats"
   ]
  },
  {
   "cell_type": "markdown",
   "id": "36e91441-25d4-4e9f-bc9d-cc7fbe9fb153",
   "metadata": {},
   "source": [
    "Do 1 and 3, number 2 is a bonus."
   ]
  },
  {
   "cell_type": "markdown",
   "id": "fcd68d3b-be72-4262-9c68-f596a365684d",
   "metadata": {},
   "source": [
    "## 1. Answer with the type of test you would use (assume normal distribution):"
   ]
  },
  {
   "cell_type": "markdown",
   "id": "edfd8ceb-3eea-4c29-8f2a-78f5f392b8bb",
   "metadata": {},
   "source": [
    "- Is there a difference in grades of students on the second floor compared to grades of all students?\n",
    "    - Answer: Mann-Whitney's test\n",
    "- Are adults who drink milk taller than adults who dont drink milk?\n",
    "    - Answer: One sample Wilcoxon signed rank test\n",
    "- Is the the price of gas higher in texas or in new mexico?\n",
    "    - Answer: Mann-Whitney's test\n",
    "- Are there differences in stress levels between students who take data science vs students who take web development vs students who take cloud academy?\n",
    "    - Answer: Kruskal-Wallis test"
   ]
  },
  {
   "cell_type": "markdown",
   "id": "2ca4b2ea-2e79-4661-af0d-a52677d38a47",
   "metadata": {},
   "source": [
    "## 2. Ace Realty wants to determine whether the average time it takes to sell homes is different for its two offices. A sample of 40 sales from office #1 revealed a mean of 90 days and a standard deviation of 15 days. A sample of 50 sales from office #2 revealed a mean of 100 days and a standard deviation of 20 days. Use a .05 level of significance."
   ]
  },
  {
   "cell_type": "code",
   "execution_count": null,
   "id": "4a64b7cf-0dfa-46e0-80b2-acb5d7efea20",
   "metadata": {},
   "outputs": [],
   "source": []
  },
  {
   "cell_type": "markdown",
   "id": "aeed9197-931b-42ec-8da1-ada343690e1f",
   "metadata": {
    "tags": []
   },
   "source": [
    "## 3. Load the mpg dataset (from pydataset) and use it to answer the following questions:"
   ]
  },
  {
   "cell_type": "markdown",
   "id": "c4e96265-f5fd-4eae-98bd-d8d1eefd52a6",
   "metadata": {
    "jp-MarkdownHeadingCollapsed": true,
    "tags": []
   },
   "source": [
    "### Loaded info:"
   ]
  },
  {
   "cell_type": "code",
   "execution_count": 2,
   "id": "03215331-3bb2-4728-b049-df169decc1a1",
   "metadata": {},
   "outputs": [],
   "source": [
    "mpg = data('mpg')"
   ]
  },
  {
   "cell_type": "code",
   "execution_count": 3,
   "id": "fe52bbe3-2436-49d9-af75-95d47e48b48d",
   "metadata": {},
   "outputs": [
    {
     "name": "stdout",
     "output_type": "stream",
     "text": [
      "<class 'pandas.core.frame.DataFrame'>\n",
      "Int64Index: 234 entries, 1 to 234\n",
      "Data columns (total 11 columns):\n",
      " #   Column        Non-Null Count  Dtype  \n",
      "---  ------        --------------  -----  \n",
      " 0   manufacturer  234 non-null    object \n",
      " 1   model         234 non-null    object \n",
      " 2   displ         234 non-null    float64\n",
      " 3   year          234 non-null    int64  \n",
      " 4   cyl           234 non-null    int64  \n",
      " 5   trans         234 non-null    object \n",
      " 6   drv           234 non-null    object \n",
      " 7   cty           234 non-null    int64  \n",
      " 8   hwy           234 non-null    int64  \n",
      " 9   fl            234 non-null    object \n",
      " 10  class         234 non-null    object \n",
      "dtypes: float64(1), int64(4), object(6)\n",
      "memory usage: 21.9+ KB\n"
     ]
    }
   ],
   "source": [
    "mpg.info()"
   ]
  },
  {
   "cell_type": "markdown",
   "id": "840eeb46-d5da-44f1-8bca-81d2d14557c5",
   "metadata": {
    "tags": []
   },
   "source": [
    "### - Is there a difference in fuel-efficiency in cars from 2008 vs 1999?"
   ]
  },
  {
   "cell_type": "code",
   "execution_count": 4,
   "id": "b30098b4-2455-416c-892a-014042d5da0a",
   "metadata": {},
   "outputs": [],
   "source": [
    "mpg['ave_fuel_use'] = (mpg.hwy + mpg.cty) / 2"
   ]
  },
  {
   "cell_type": "code",
   "execution_count": 5,
   "id": "acf230c7-ffed-4886-80cd-b52f69d229aa",
   "metadata": {},
   "outputs": [
    {
     "data": {
      "text/plain": [
       "Text(0, 0.5, 'Counts')"
      ]
     },
     "execution_count": 5,
     "metadata": {},
     "output_type": "execute_result"
    },
    {
     "data": {
      "image/png": "[encoded data removed]",
      "text/plain": [
       "<Figure size 640x480 with 1 Axes>"
      ]
     },
     "metadata": {},
     "output_type": "display_data"
    }
   ],
   "source": [
    "avg_mpg99 = mpg[mpg.year == 1999].ave_fuel_use\n",
    "avg_mpg08 = mpg[mpg.year == 2008].ave_fuel_use\n",
    "\n",
    "mpg[mpg.year == 1999].ave_fuel_use.hist(label='1999')\n",
    "mpg[mpg.year == 2008].ave_fuel_use.hist(label='2008', alpha = 0.9)\n",
    "plt.legend()\n",
    "plt.title(f'Average city and highway MPG by year')\n",
    "plt.xlabel(f'Miles per Gallon')\n",
    "plt.ylabel(f'Counts')"
   ]
  },
  {
   "cell_type": "code",
   "execution_count": 6,
   "id": "d082a492-e895-4db9-aa53-7b2867126b95",
   "metadata": {},
   "outputs": [
    {
     "data": {
      "text/plain": [
       "Text(0, 0.5, 'Counts')"
      ]
     },
     "execution_count": 6,
     "metadata": {},
     "output_type": "execute_result"
    },
    {
     "data": {
      "image/png": "[encoded data removed]",
      "text/plain": [
       "<Figure size 640x480 with 1 Axes>"
      ]
     },
     "metadata": {},
     "output_type": "display_data"
    }
   ],
   "source": [
    "hwy_mpg99 = mpg[mpg.year == 1999].hwy\n",
    "hwy_mpg08 = mpg[mpg.year == 2008].hwy\n",
    "\n",
    "mpg[mpg.year == 1999].hwy.hist(label='1999')\n",
    "mpg[mpg.year == 2008].hwy.hist(label='2008', alpha = 0.9)\n",
    "plt.legend()\n",
    "plt.title(f'Average highway MPG by year')\n",
    "plt.xlabel(f'Miles per Gallon')\n",
    "plt.ylabel(f'Counts')"
   ]
  },
  {
   "cell_type": "code",
   "execution_count": 7,
   "id": "012298b5-e934-48b7-aa98-6ee919df4961",
   "metadata": {},
   "outputs": [
    {
     "data": {
      "text/plain": [
       "Text(0, 0.5, 'Counts')"
      ]
     },
     "execution_count": 7,
     "metadata": {},
     "output_type": "execute_result"
    },
    {
     "data": {
      "image/png": "[encoded data removed]",
      "text/plain": [
       "<Figure size 640x480 with 1 Axes>"
      ]
     },
     "metadata": {},
     "output_type": "display_data"
    }
   ],
   "source": [
    "cty_mpg99 = mpg[mpg.year == 1999].cty\n",
    "cty_mpg08 = mpg[mpg.year == 2008].cty\n",
    "\n",
    "mpg[mpg.year == 1999].cty.hist(label='1999')\n",
    "mpg[mpg.year == 2008].cty.hist(label='2008', alpha = 0.9)\n",
    "plt.legend()\n",
    "plt.title(f'Average city MPG by year')\n",
    "plt.xlabel(f'Miles per Gallon')\n",
    "plt.ylabel(f'Counts')"
   ]
  },
  {
   "cell_type": "code",
   "execution_count": 8,
   "id": "e46a11b2-88ec-44fb-9ec0-539bac0d6524",
   "metadata": {},
   "outputs": [
    {
     "name": "stdout",
     "output_type": "stream",
     "text": [
      " Variance for Average mpg in 1999: 27.123\n",
      " Variance for Average mpg in 2008: 24.097\n",
      "-----------------------------------------\n",
      " Variance for city mpg in 1999: 19.879\n",
      " Variance for city mpg in 2008: 16.453\n",
      "-----------------------------------------\n",
      " Variance for highway mpg in 1999: 37.023\n",
      " Variance for highway mpg in 2008: 34.198\n"
     ]
    }
   ],
   "source": [
    "print(f' Variance for Average mpg in 1999: {avg_mpg99.var():.3f}')\n",
    "print(f' Variance for Average mpg in 2008: {avg_mpg08.var():.3f}')\n",
    "print(\"-----------------------------------------\")\n",
    "print(f' Variance for city mpg in 1999: {cty_mpg99.var():.3f}')\n",
    "print(f' Variance for city mpg in 2008: {cty_mpg08.var():.3f}')\n",
    "print(\"-----------------------------------------\")\n",
    "print(f' Variance for highway mpg in 1999: {hwy_mpg99.var():.3f}')\n",
    "print(f' Variance for highway mpg in 2008: {hwy_mpg08.var():.3f}')"
   ]
  },
  {
   "cell_type": "code",
   "execution_count": 9,
   "id": "04b86635-1aeb-4901-b44b-510892dd4ad3",
   "metadata": {},
   "outputs": [
    {
     "name": "stdout",
     "output_type": "stream",
     "text": [
      " Mean for Average mpg in 1999: 20.222\n",
      " Mean for Average mpg in 2008: 20.077\n",
      "-----------------------------------------\n",
      " Mean for city mpg in 1999: 17.017\n",
      " Mean for city mpg in 2008: 16.701\n",
      "-----------------------------------------\n",
      " Mean for highway mpg in 1999: 23.427\n",
      " Mean for highway mpg in 2008: 23.453\n"
     ]
    }
   ],
   "source": [
    "print(f' Mean for Average mpg in 1999: {avg_mpg99.mean():.3f}')\n",
    "print(f' Mean for Average mpg in 2008: {avg_mpg08.mean():.3f}')\n",
    "print(\"-----------------------------------------\")\n",
    "print(f' Mean for city mpg in 1999: {cty_mpg99.mean():.3f}')\n",
    "print(f' Mean for city mpg in 2008: {cty_mpg08.mean():.3f}')\n",
    "print(\"-----------------------------------------\")\n",
    "print(f' Mean for highway mpg in 1999: {hwy_mpg99.mean():.3f}')\n",
    "print(f' Mean for highway mpg in 2008: {hwy_mpg08.mean():.3f}')"
   ]
  },
  {
   "cell_type": "code",
   "execution_count": 10,
   "id": "3a48f803-1845-41f1-a0c4-3464636569f0",
   "metadata": {},
   "outputs": [
    {
     "name": "stdout",
     "output_type": "stream",
     "text": [
      "117\n",
      "117\n",
      "117\n",
      "117\n",
      "117\n",
      "117\n"
     ]
    }
   ],
   "source": [
    "print(len(avg_mpg99))\n",
    "print(len(avg_mpg08))\n",
    "print(len(cty_mpg99))\n",
    "print(len(cty_mpg08))\n",
    "print(len(hwy_mpg99))\n",
    "print(len(hwy_mpg08))"
   ]
  },
  {
   "cell_type": "markdown",
   "id": "7e0f13ba-0520-48eb-8fa6-d4c229738423",
   "metadata": {},
   "source": [
    "Hypothesis:\n",
    "- H0: Average MPG in 2008 is <= average MPG in 1999.\n",
    "- HA: Average MPG in 2008 is > average MPG in 1999."
   ]
  },
  {
   "cell_type": "markdown",
   "id": "d21aa0da-ac49-4b6f-9aa0-eb120ca9325a",
   "metadata": {},
   "source": [
    "Verify assumptions:\n",
    "\n",
    "- Check that we have at least 30 observations.\n",
    "    - 117:\n",
    "- Independence\n",
    "    - Seems like it.\n",
    "- Equal variance: 'equal_var' argument is True if equal and False if not equal.\n",
    "    - I don't know, results for both below.\n",
    "    \n",
    "Set alpha:"
   ]
  },
  {
   "cell_type": "code",
   "execution_count": 11,
   "id": "2413e822-5c26-45fd-8a9d-74f73acbb10d",
   "metadata": {},
   "outputs": [],
   "source": [
    "alpha = 0.05"
   ]
  },
  {
   "cell_type": "code",
   "execution_count": 12,
   "id": "e78ada19-ce68-4435-bcfc-66df0725726b",
   "metadata": {
    "tags": []
   },
   "outputs": [
    {
     "data": {
      "text/plain": [
       "(0.21960177245940962, 0.8263744040323578)"
      ]
     },
     "execution_count": 12,
     "metadata": {},
     "output_type": "execute_result"
    }
   ],
   "source": [
    "t_ave, p_ave = stats.ttest_ind(avg_mpg99, avg_mpg08)\n",
    "t_ave, p_ave\n",
    "#equal_var=False output: (0.21960177245940962, 0.8263750772060638)\n",
    "#equal_var=True output: (0.21960177245940962, 0.8263744040323578)"
   ]
  },
  {
   "cell_type": "code",
   "execution_count": 13,
   "id": "7d5d2bd3-d64a-4589-9793-005affba7b1e",
   "metadata": {},
   "outputs": [
    {
     "name": "stdout",
     "output_type": "stream",
     "text": [
      "We fail to reject null hypothesis\n"
     ]
    }
   ],
   "source": [
    "if p_ave/2 > alpha:\n",
    "    print(\"We fail to reject null hypothesis\")\n",
    "elif t_ave < 0:\n",
    "    print(\"We fail to reject null hypothesis\")\n",
    "else:\n",
    "    print(\"We reject the null hypothesis\")"
   ]
  },
  {
   "cell_type": "code",
   "execution_count": 14,
   "id": "151bc243-b8cf-4dc2-82db-7772223b8522",
   "metadata": {},
   "outputs": [
    {
     "data": {
      "text/plain": [
       "(0.5674988409997608, 0.5709240495406107)"
      ]
     },
     "execution_count": 14,
     "metadata": {},
     "output_type": "execute_result"
    }
   ],
   "source": [
    "t_cty, p_cty = stats.ttest_ind(cty_mpg99, cty_mpg08)\n",
    "t_cty, p_cty\n",
    "#equal_var=False output: (0.5674988409997608, 0.5709289258613233)\n",
    "#equal_var=True output: (0.5674988409997608, 0.5709240495406107)"
   ]
  },
  {
   "cell_type": "code",
   "execution_count": 15,
   "id": "752dce4a-7dca-442d-b52e-8c4737ab433c",
   "metadata": {},
   "outputs": [
    {
     "name": "stdout",
     "output_type": "stream",
     "text": [
      "We fail to reject null hypothesis\n"
     ]
    }
   ],
   "source": [
    "if p_cty/2 > alpha:\n",
    "    print(\"We fail to reject null hypothesis\")\n",
    "elif t_cty < 0:\n",
    "    print(\"We fail to reject null hypothesis\")\n",
    "else:\n",
    "    print(\"We reject the null hypothesis\")"
   ]
  },
  {
   "cell_type": "code",
   "execution_count": 16,
   "id": "66afe078-6449-4583-a4ff-5c745a2e8ac7",
   "metadata": {},
   "outputs": [
    {
     "data": {
      "text/plain": [
       "(-0.03286431672888292, 0.9738110448529322)"
      ]
     },
     "execution_count": 16,
     "metadata": {},
     "output_type": "execute_result"
    }
   ],
   "source": [
    "t_hwy, p_hwy = stats.ttest_ind(hwy_mpg99, hwy_mpg08)\n",
    "t_hwy, p_hwy\n",
    "#equal_var=False output: (-0.03286431672888292, 0.973811089269393)\n",
    "#equal_var=True output: (-0.03286431672888292, 0.9738110448529322)"
   ]
  },
  {
   "cell_type": "code",
   "execution_count": 17,
   "id": "15c0c638-264b-4418-85a0-e77de3e55dd3",
   "metadata": {},
   "outputs": [
    {
     "name": "stdout",
     "output_type": "stream",
     "text": [
      "We fail to reject null hypothesis\n"
     ]
    }
   ],
   "source": [
    "if p_hwy/2 > alpha:\n",
    "    print(\"We fail to reject null hypothesis\")\n",
    "elif t_hwy < 0:\n",
    "    print(\"We fail to reject null hypothesis\")\n",
    "else:\n",
    "    print(\"We reject the null hypothesis\")"
   ]
  },
  {
   "cell_type": "markdown",
   "id": "f5ad71c9-1608-49dc-8c99-dd4cbf2a3fde",
   "metadata": {},
   "source": [
    "#### Conclusion: We fail to reject the null hypothesis.\n",
    "- H0: Average MPG in 2008 is <= average MPG in 1999.\n"
   ]
  },
  {
   "cell_type": "markdown",
   "id": "9bd6192c-939e-4596-8c93-60cc0026c2d0",
   "metadata": {},
   "source": [
    "### - Are compact cars more fuel-efficient than the average car?"
   ]
  },
  {
   "cell_type": "code",
   "execution_count": 18,
   "id": "2545ee7d-ded5-43a0-8ff6-2c126b1924bb",
   "metadata": {},
   "outputs": [
    {
     "name": "stdout",
     "output_type": "stream",
     "text": [
      "<class 'pandas.core.frame.DataFrame'>\n",
      "Int64Index: 234 entries, 1 to 234\n",
      "Data columns (total 12 columns):\n",
      " #   Column        Non-Null Count  Dtype  \n",
      "---  ------        --------------  -----  \n",
      " 0   manufacturer  234 non-null    object \n",
      " 1   model         234 non-null    object \n",
      " 2   displ         234 non-null    float64\n",
      " 3   year          234 non-null    int64  \n",
      " 4   cyl           234 non-null    int64  \n",
      " 5   trans         234 non-null    object \n",
      " 6   drv           234 non-null    object \n",
      " 7   cty           234 non-null    int64  \n",
      " 8   hwy           234 non-null    int64  \n",
      " 9   fl            234 non-null    object \n",
      " 10  class         234 non-null    object \n",
      " 11  ave_fuel_use  234 non-null    float64\n",
      "dtypes: float64(2), int64(4), object(6)\n",
      "memory usage: 23.8+ KB\n"
     ]
    }
   ],
   "source": [
    "mpg.info()"
   ]
  },
  {
   "cell_type": "code",
   "execution_count": 19,
   "id": "b25c7bc5-cf4f-442b-8211-c736e7e6cc90",
   "metadata": {},
   "outputs": [
    {
     "name": "stdout",
     "output_type": "stream",
     "text": [
      "Info for compact cars:\n",
      "Number of values:            47\n",
      "Ave MPG:                     24.213\n",
      "MPG variance:                12.443\n",
      "------------------------------\n",
      "Info for all cars:\n",
      "Number of values:            234\n",
      "Ave MPG of all cars:         20.150\n",
      "MPG variance for all cars:   25.505\n"
     ]
    }
   ],
   "source": [
    "compact = mpg[mpg['class'] == 'compact'].ave_fuel_use\n",
    "print('Info for compact cars:')\n",
    "print(f'Number of values: {len(compact):>13}')\n",
    "print(f'Ave MPG: {compact.mean():>26.3f}')\n",
    "print(f'MPG variance: {compact.var():>21.3f}')\n",
    "print('------------------------------')\n",
    "print(f'Info for all cars:')\n",
    "print(f'Number of values: {len(mpg.ave_fuel_use):>14}')\n",
    "print(f'Ave MPG of all cars: {mpg.ave_fuel_use.mean():>14.3f}')\n",
    "print(f'MPG variance for all cars: {mpg.ave_fuel_use.var():>8.3f}')"
   ]
  },
  {
   "cell_type": "code",
   "execution_count": 25,
   "id": "9b39afc6-828b-4cf2-b4e9-fb5d8a5f4693",
   "metadata": {},
   "outputs": [
    {
     "data": {
      "text/plain": [
       "<matplotlib.legend.Legend at 0x7fdeeee58640>"
      ]
     },
     "execution_count": 25,
     "metadata": {},
     "output_type": "execute_result"
    },
    {
     "data": {
      "image/png": "[encoded data removed]",
      "text/plain": [
       "<Figure size 640x480 with 1 Axes>"
      ]
     },
     "metadata": {},
     "output_type": "display_data"
    }
   ],
   "source": [
    "mpg.ave_fuel_use.hist(label = 'all cars')\n",
    "compact.hist(label = \"compact\")\n",
    "\n",
    "plt.title(f'MPG')\n",
    "plt.xlabel(f'MPG')\n",
    "plt.ylabel(f'Counts')\n",
    "plt.legend()"
   ]
  },
  {
   "cell_type": "markdown",
   "id": "bf45a434-7f10-46a1-96e2-36b2ec3dd686",
   "metadata": {},
   "source": [
    "Assumptions:\n",
    "\n",
    "- Min 30 observations: (see counts above)\n",
    "- Distribution \"kinda\" normal: "
   ]
  },
  {
   "cell_type": "markdown",
   "id": "b0191dc2-b347-49d5-a2cf-e305b0be595b",
   "metadata": {},
   "source": [
    "Hypothesis:\n",
    "\n",
    "- H0: Compact cars have the same fuel efficency as the average car.\n",
    "- HA: Compact cars have better fuel effiency than the average car."
   ]
  },
  {
   "cell_type": "code",
   "execution_count": 21,
   "id": "44d32259-1fb1-4879-a467-2f3532cc2ba2",
   "metadata": {},
   "outputs": [],
   "source": [
    "alpha = 0.05"
   ]
  },
  {
   "cell_type": "code",
   "execution_count": null,
   "id": "c46be4c8-a023-457e-a0a4-c11e87185698",
   "metadata": {},
   "outputs": [],
   "source": []
  },
  {
   "cell_type": "code",
   "execution_count": null,
   "id": "4db86f0d-69b4-487f-a10d-2159075c61fe",
   "metadata": {},
   "outputs": [],
   "source": []
  },
  {
   "cell_type": "code",
   "execution_count": null,
   "id": "09ee2283-9d44-4413-bba0-b5933b23ec59",
   "metadata": {},
   "outputs": [],
   "source": []
  },
  {
   "cell_type": "code",
   "execution_count": null,
   "id": "adc01d3c-53a9-4789-9a95-0d6082b506b9",
   "metadata": {},
   "outputs": [],
   "source": []
  },
  {
   "cell_type": "markdown",
   "id": "d3ab9ee1-8285-4e23-a585-ebcfb8eaf02b",
   "metadata": {
    "tags": []
   },
   "source": [
    "### - Do manual cars get better gas mileage than automatic cars?"
   ]
  },
  {
   "cell_type": "code",
   "execution_count": 22,
   "id": "f48132e9-2d79-4300-9eaf-b6f6a2dbda9c",
   "metadata": {},
   "outputs": [
    {
     "name": "stdout",
     "output_type": "stream",
     "text": [
      " Manual cars get an average mpg of:     22.227\n",
      " All cars get an average mpg of:        20.150\n",
      "------------------------------------------\n",
      " Manual cars mpg have a variance of:    26.635\n",
      " All cars mpg have a variance of:       25.505\n"
     ]
    }
   ],
   "source": [
    "manual = mpg[mpg.trans.str.startswith('m')].ave_fuel_use\n",
    "\n",
    "print(f' Manual cars get an average mpg of: {manual.mean():>10.3f}')\n",
    "print(f' All cars get an average mpg of: {mpg.ave_fuel_use.mean():>13.3f}')\n",
    "print('------------------------------------------')\n",
    "print(f' Manual cars mpg have a variance of: {manual.var():>9.3f}')\n",
    "print(f' All cars mpg have a variance of: {mpg.ave_fuel_use.var():>12.3f}')\n"
   ]
  },
  {
   "cell_type": "code",
   "execution_count": 24,
   "id": "afcf7dfb-96e8-4c76-8d21-163f719a6033",
   "metadata": {},
   "outputs": [
    {
     "data": {
      "text/plain": [
       "<matplotlib.legend.Legend at 0x7fdee9f91340>"
      ]
     },
     "execution_count": 24,
     "metadata": {},
     "output_type": "execute_result"
    },
    {
     "data": {
      "image/png": "[encoded data removed]",
      "text/plain": [
       "<Figure size 640x480 with 1 Axes>"
      ]
     },
     "metadata": {},
     "output_type": "display_data"
    }
   ],
   "source": [
    "mpg.ave_fuel_use.hist(label = 'all cars')\n",
    "manual.hist(label = \"manual\")\n",
    "\n",
    "plt.title(f'MPG')\n",
    "plt.xlabel(f'MPG')\n",
    "plt.ylabel(f'Counts')\n",
    "plt.legend()"
   ]
  },
  {
   "cell_type": "markdown",
   "id": "878f9dfa-8596-45db-a688-5115a938359b",
   "metadata": {},
   "source": [
    "Assumptions:\n",
    "\n",
    "- Min 30 observations: (see counts above)\n",
    "- Distribution \"kinda\" normal: "
   ]
  },
  {
   "cell_type": "markdown",
   "id": "3320297d-3b2c-4c7b-bf1b-3e94c932d8ee",
   "metadata": {},
   "source": [
    "Hypothesis:\n",
    "\n",
    "- H0: Manual cars have the same fuel efficency as the average car.\n",
    "- HA: Manual cars have better fuel effiency than the average car."
   ]
  },
  {
   "cell_type": "code",
   "execution_count": null,
   "id": "1fba5e01-68b6-4ac5-ac9e-b89bf943bbdb",
   "metadata": {
    "tags": []
   },
   "outputs": [],
   "source": []
  },
  {
   "cell_type": "code",
   "execution_count": null,
   "id": "f7f1ef7f-a187-4e98-9214-3da551b410f8",
   "metadata": {},
   "outputs": [],
   "source": []
  },
  {
   "cell_type": "code",
   "execution_count": null,
   "id": "6c8a92cd-5fa6-4096-bc82-f298cf2bb4a1",
   "metadata": {},
   "outputs": [],
   "source": []
  },
  {
   "cell_type": "code",
   "execution_count": null,
   "id": "b6f32257-b464-46d9-8102-55fdaf44faee",
   "metadata": {},
   "outputs": [],
   "source": []
  },
  {
   "cell_type": "code",
   "execution_count": null,
   "id": "827dd92b-1ad7-4e9e-b1c7-bd492f5ffb1e",
   "metadata": {},
   "outputs": [],
   "source": []
  }
 ],
 "metadata": {
  "kernelspec": {
   "display_name": "Python 3 (ipykernel)",
   "language": "python",
   "name": "python3"
  },
  "language_info": {
   "codemirror_mode": {
    "name": "ipython",
    "version": 3
   },
   "file_extension": ".py",
   "mimetype": "text/x-python",
   "name": "python",
   "nbconvert_exporter": "python",
   "pygments_lexer": "ipython3",
   "version": "3.9.15"
  }
 },
 "nbformat": 4,
 "nbformat_minor": 5
}

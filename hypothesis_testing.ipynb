{
 "cells": [
  {
   "cell_type": "markdown",
   "id": "161bef27-267a-4884-826c-231fa92380f1",
   "metadata": {
    "tags": []
   },
   "source": [
    "### Be as specific as you can and answer for each of the following questions:"
   ]
  },
  {
   "cell_type": "markdown",
   "id": "a21217d7-62cf-458b-8c7e-3c3b1aea7c4c",
   "metadata": {
    "tags": []
   },
   "source": [
    "#### Formulate:\n",
    "    - null hypothesis\n",
    "    - alternative hypothesis"
   ]
  },
  {
   "cell_type": "markdown",
   "id": "63075936-b7c8-4eca-83a6-7b9c99a86ba8",
   "metadata": {
    "tags": []
   },
   "source": [
    "#### Give examples of:\n",
    "    - true positive\n",
    "    - true negative\n",
    "    - type I error \n",
    "    - type II error"
   ]
  },
  {
   "cell_type": "markdown",
   "id": "54b074a2-3539-401a-9df6-3daae8c8e45d",
   "metadata": {
    "tags": []
   },
   "source": [
    "### 1. Has the network latency gone up since we switched internet service providers?"
   ]
  },
  {
   "cell_type": "markdown",
   "id": "42aeb9a0-61e7-48af-a64f-238f80527b1f",
   "metadata": {},
   "source": [
    "H0: Network latency has not changed since switching service providers."
   ]
  },
  {
   "cell_type": "markdown",
   "id": "1eaede54-8d9c-4aad-a481-9be74f8fade1",
   "metadata": {},
   "source": [
    "HA: The new ISP has more network latency. "
   ]
  },
  {
   "cell_type": "markdown",
   "id": "004ae927-519e-4097-9e30-9b969ef39cc4",
   "metadata": {
    "tags": []
   },
   "source": [
    "True positive: Network latency is the same with both ISPs."
   ]
  },
  {
   "cell_type": "markdown",
   "id": "5fce182c-7d48-4630-9049-30fe50c38659",
   "metadata": {},
   "source": [
    "True negative: Network latency has increased since switching ISPs."
   ]
  },
  {
   "cell_type": "markdown",
   "id": "8a8c2739-e146-48a3-a1ae-9ab0eeb4c205",
   "metadata": {},
   "source": [
    "Type I error: We conclude network latency has increased when it actually has not."
   ]
  },
  {
   "cell_type": "markdown",
   "id": "1e87bded-9429-40c2-a5c9-43644e041684",
   "metadata": {},
   "source": [
    "Type II error: We believe network latency has remained the same when it has actually gone up."
   ]
  },
  {
   "cell_type": "markdown",
   "id": "f25374d6-39ad-4971-bd7d-462ed6693cde",
   "metadata": {
    "tags": []
   },
   "source": [
    "### 2. Is the website redesign any good?"
   ]
  },
  {
   "cell_type": "markdown",
   "id": "0bf7056a-c4b5-440f-89e5-d217cf864492",
   "metadata": {},
   "source": [
    "H0: The website design results in the same number of click-throughs as as before."
   ]
  },
  {
   "cell_type": "markdown",
   "id": "11312c3e-7c58-45a8-8c7e-4b14e83ad4ac",
   "metadata": {},
   "source": [
    "HA: The website design causes more click-throughs than prior."
   ]
  },
  {
   "cell_type": "markdown",
   "id": "632ebdb6-3683-4ac3-8458-0572dec5eda9",
   "metadata": {},
   "source": [
    "True positive: We believe the number of click-throughs is the same and it actually is."
   ]
  },
  {
   "cell_type": "markdown",
   "id": "cf119aed-9bf7-41fb-b961-c92a934dd402",
   "metadata": {
    "tags": []
   },
   "source": [
    "True negative: We believe there are more click-thoughs are there actually are."
   ]
  },
  {
   "cell_type": "markdown",
   "id": "d363f5ac-74be-4599-8aed-25450eeed9da",
   "metadata": {},
   "source": [
    "Type I error: We believe there are more click-throughs but there are not."
   ]
  },
  {
   "cell_type": "markdown",
   "id": "0916b17f-eafa-46ef-a813-c3be9c86884d",
   "metadata": {},
   "source": [
    "Type II error: We believe the number of click-throughs is the same but it is actually more."
   ]
  },
  {
   "cell_type": "markdown",
   "id": "43fad3b1-3e8c-4bf0-af9b-d67fbfe16475",
   "metadata": {
    "tags": []
   },
   "source": [
    "### 3. Is our television ad driving more sales?"
   ]
  },
  {
   "cell_type": "markdown",
   "id": "e1f6c4a1-d3f0-4a1d-a0c8-77e06f0de1ea",
   "metadata": {},
   "source": [
    "H0: Our television ads have not affected our sales."
   ]
  },
  {
   "cell_type": "markdown",
   "id": "67cc2923-69cb-42f5-90e5-2b7dea7b5cfe",
   "metadata": {},
   "source": [
    "HA: Our television ads have affected our sales."
   ]
  },
  {
   "cell_type": "markdown",
   "id": "0d23cef0-5aa6-4d73-adc9-d9431ceab560",
   "metadata": {},
   "source": [
    "True positive: Our sales are the same and our sales have not changed."
   ]
  },
  {
   "cell_type": "markdown",
   "id": "445eac2b-5edd-4274-b772-fc85a562660b",
   "metadata": {
    "tags": []
   },
   "source": [
    "True negative: Our sales increased with the ads and our sales actually increased."
   ]
  },
  {
   "cell_type": "markdown",
   "id": "fd73d43d-2b0b-4640-92eb-fcec238eda2f",
   "metadata": {},
   "source": [
    "Type I error: Our sales have increased but they have actually stayed the same."
   ]
  },
  {
   "cell_type": "markdown",
   "id": "5c369fe8-a38b-496c-9145-16ed5ecf1847",
   "metadata": {},
   "source": [
    "Type II error: Our sales are the same but they have actually increased."
   ]
  },
  {
   "cell_type": "code",
   "execution_count": null,
   "id": "cfa93769-5c4c-46ae-8a56-3d1f7a18538e",
   "metadata": {},
   "outputs": [],
   "source": []
  }
 ],
 "metadata": {
  "kernelspec": {
   "display_name": "Python 3 (ipykernel)",
   "language": "python",
   "name": "python3"
  },
  "language_info": {
   "codemirror_mode": {
    "name": "ipython",
    "version": 3
   },
   "file_extension": ".py",
   "mimetype": "text/x-python",
   "name": "python",
   "nbconvert_exporter": "python",
   "pygments_lexer": "ipython3",
   "version": "3.9.15"
  }
 },
 "nbformat": 4,
 "nbformat_minor": 5
}
